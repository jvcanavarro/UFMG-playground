{
 "cells": [
  {
   "cell_type": "code",
   "execution_count": 19,
   "metadata": {},
   "outputs": [],
   "source": [
    "# !pip install matplotlib"
   ]
  },
  {
   "cell_type": "code",
   "execution_count": 105,
   "metadata": {},
   "outputs": [],
   "source": [
    "import pandas as pd \n",
    "import csv\n",
    "\n",
    "\n",
    "ratings = pd.read_json(\"ratings.jsonl\", lines=True)\n",
    "targets = pd.read_csv(\"targets.csv\")\n",
    "content = pd.read_json(\"content.jsonl\", lines=True)\n",
    "\n",
    "\n",
    "# Drop: Ratings (imdbRating), Released (Year)\n",
    "# Probably Drop: Rated, \n",
    "# Hard to use: Runtime\n",
    "\n",
    "drop_cols = [\"totalSeasons\", \"Season\", \"Episode\", \"seriesID\"]  # Ratings, \n",
    "content = content.drop(drop_cols, axis=1)\n",
    "content = content.replace(\"N/A\", 0)"
   ]
  },
  {
   "cell_type": "code",
   "execution_count": 106,
   "metadata": {},
   "outputs": [],
   "source": [
    "content.imdbRating = content.imdbRating.astype(float)\n",
    "# content.imdbVotes = content.imdbVotes.to_numeric()\n",
    "content.imdbVotes= content.imdbVotes.str.replace(',', '').astype(float)\n"
   ]
  },
  {
   "cell_type": "code",
   "execution_count": 9,
   "metadata": {},
   "outputs": [
    {
     "data": {
      "text/html": [
       "<div>\n",
       "<style scoped>\n",
       "    .dataframe tbody tr th:only-of-type {\n",
       "        vertical-align: middle;\n",
       "    }\n",
       "\n",
       "    .dataframe tbody tr th {\n",
       "        vertical-align: top;\n",
       "    }\n",
       "\n",
       "    .dataframe thead th {\n",
       "        text-align: right;\n",
       "    }\n",
       "</style>\n",
       "<table border=\"1\" class=\"dataframe\">\n",
       "  <thead>\n",
       "    <tr style=\"text-align: right;\">\n",
       "      <th></th>\n",
       "      <th>ItemId</th>\n",
       "      <th>Title</th>\n",
       "      <th>Year</th>\n",
       "      <th>Rated</th>\n",
       "      <th>Released</th>\n",
       "      <th>Runtime</th>\n",
       "      <th>Genre</th>\n",
       "      <th>Director</th>\n",
       "      <th>Writer</th>\n",
       "      <th>Actors</th>\n",
       "      <th>...</th>\n",
       "      <th>Ratings</th>\n",
       "      <th>Metascore</th>\n",
       "      <th>imdbRating</th>\n",
       "      <th>imdbVotes</th>\n",
       "      <th>Type</th>\n",
       "      <th>DVD</th>\n",
       "      <th>BoxOffice</th>\n",
       "      <th>Production</th>\n",
       "      <th>Website</th>\n",
       "      <th>Response</th>\n",
       "    </tr>\n",
       "  </thead>\n",
       "  <tbody>\n",
       "    <tr>\n",
       "      <th>0</th>\n",
       "      <td>c9f0f895fb</td>\n",
       "      <td>Edison Kinetoscopic Record of a Sneeze</td>\n",
       "      <td>1894</td>\n",
       "      <td>0</td>\n",
       "      <td>09 Jan 1894</td>\n",
       "      <td>1 min</td>\n",
       "      <td>Documentary, Short</td>\n",
       "      <td>William K.L. Dickson</td>\n",
       "      <td>0</td>\n",
       "      <td>Fred Ott</td>\n",
       "      <td>...</td>\n",
       "      <td>[{'Source': 'Internet Movie Database', 'Value'...</td>\n",
       "      <td>0</td>\n",
       "      <td>5.5</td>\n",
       "      <td>1980.0</td>\n",
       "      <td>movie</td>\n",
       "      <td>0</td>\n",
       "      <td>0</td>\n",
       "      <td>0</td>\n",
       "      <td>0</td>\n",
       "      <td>True</td>\n",
       "    </tr>\n",
       "    <tr>\n",
       "      <th>1</th>\n",
       "      <td>d3d9446802</td>\n",
       "      <td>Leaving the Factory</td>\n",
       "      <td>1895</td>\n",
       "      <td>Not Rated</td>\n",
       "      <td>22 Mar 1895</td>\n",
       "      <td>1 min</td>\n",
       "      <td>Documentary, Short</td>\n",
       "      <td>Louis Lumière</td>\n",
       "      <td>0</td>\n",
       "      <td>0</td>\n",
       "      <td>...</td>\n",
       "      <td>[{'Source': 'Internet Movie Database', 'Value'...</td>\n",
       "      <td>0</td>\n",
       "      <td>6.9</td>\n",
       "      <td>6633.0</td>\n",
       "      <td>movie</td>\n",
       "      <td>0</td>\n",
       "      <td>0</td>\n",
       "      <td>0</td>\n",
       "      <td>0</td>\n",
       "      <td>True</td>\n",
       "    </tr>\n",
       "    <tr>\n",
       "      <th>2</th>\n",
       "      <td>c20ad4d76f</td>\n",
       "      <td>The Arrival of a Train</td>\n",
       "      <td>1896</td>\n",
       "      <td>Not Rated</td>\n",
       "      <td>25 Jan 1896</td>\n",
       "      <td>1 min</td>\n",
       "      <td>Documentary, Short</td>\n",
       "      <td>Auguste Lumière, Louis Lumière</td>\n",
       "      <td>0</td>\n",
       "      <td>Madeleine Koehler, Marcel Koehler, Mrs. August...</td>\n",
       "      <td>...</td>\n",
       "      <td>[{'Source': 'Internet Movie Database', 'Value'...</td>\n",
       "      <td>0</td>\n",
       "      <td>7.5</td>\n",
       "      <td>11407.0</td>\n",
       "      <td>movie</td>\n",
       "      <td>0</td>\n",
       "      <td>0</td>\n",
       "      <td>0</td>\n",
       "      <td>0</td>\n",
       "      <td>True</td>\n",
       "    </tr>\n",
       "    <tr>\n",
       "      <th>3</th>\n",
       "      <td>8e296a067a</td>\n",
       "      <td>The Oxford and Cambridge University Boat Race</td>\n",
       "      <td>1895</td>\n",
       "      <td>0</td>\n",
       "      <td>0</td>\n",
       "      <td>0</td>\n",
       "      <td>Short, News, Sport</td>\n",
       "      <td>Birt Acres</td>\n",
       "      <td>0</td>\n",
       "      <td>0</td>\n",
       "      <td>...</td>\n",
       "      <td>[{'Source': 'Internet Movie Database', 'Value'...</td>\n",
       "      <td>0</td>\n",
       "      <td>4.2</td>\n",
       "      <td>39.0</td>\n",
       "      <td>movie</td>\n",
       "      <td>0</td>\n",
       "      <td>0</td>\n",
       "      <td>0</td>\n",
       "      <td>0</td>\n",
       "      <td>True</td>\n",
       "    </tr>\n",
       "    <tr>\n",
       "      <th>4</th>\n",
       "      <td>54229abfcf</td>\n",
       "      <td>The House of the Devil</td>\n",
       "      <td>1896</td>\n",
       "      <td>Not Rated</td>\n",
       "      <td>24 Dec 1896</td>\n",
       "      <td>3 min</td>\n",
       "      <td>Short, Horror</td>\n",
       "      <td>Georges Méliès</td>\n",
       "      <td>Georges Méliès</td>\n",
       "      <td>Jehanne d'Alcy, Jules-Eugène Legris, Georges M...</td>\n",
       "      <td>...</td>\n",
       "      <td>[{'Source': 'Internet Movie Database', 'Value'...</td>\n",
       "      <td>0</td>\n",
       "      <td>6.7</td>\n",
       "      <td>3268.0</td>\n",
       "      <td>movie</td>\n",
       "      <td>0</td>\n",
       "      <td>0</td>\n",
       "      <td>0</td>\n",
       "      <td>0</td>\n",
       "      <td>True</td>\n",
       "    </tr>\n",
       "  </tbody>\n",
       "</table>\n",
       "<p>5 rows × 25 columns</p>\n",
       "</div>"
      ],
      "text/plain": [
       "       ItemId                                          Title  Year      Rated   \n",
       "0  c9f0f895fb         Edison Kinetoscopic Record of a Sneeze  1894          0  \\\n",
       "1  d3d9446802                            Leaving the Factory  1895  Not Rated   \n",
       "2  c20ad4d76f                         The Arrival of a Train  1896  Not Rated   \n",
       "3  8e296a067a  The Oxford and Cambridge University Boat Race  1895          0   \n",
       "4  54229abfcf                         The House of the Devil  1896  Not Rated   \n",
       "\n",
       "      Released Runtime               Genre                        Director   \n",
       "0  09 Jan 1894   1 min  Documentary, Short            William K.L. Dickson  \\\n",
       "1  22 Mar 1895   1 min  Documentary, Short                   Louis Lumière   \n",
       "2  25 Jan 1896   1 min  Documentary, Short  Auguste Lumière, Louis Lumière   \n",
       "3            0       0  Short, News, Sport                      Birt Acres   \n",
       "4  24 Dec 1896   3 min       Short, Horror                  Georges Méliès   \n",
       "\n",
       "           Writer                                             Actors  ...   \n",
       "0               0                                           Fred Ott  ...  \\\n",
       "1               0                                                  0  ...   \n",
       "2               0  Madeleine Koehler, Marcel Koehler, Mrs. August...  ...   \n",
       "3               0                                                  0  ...   \n",
       "4  Georges Méliès  Jehanne d'Alcy, Jules-Eugène Legris, Georges M...  ...   \n",
       "\n",
       "                                             Ratings Metascore imdbRating   \n",
       "0  [{'Source': 'Internet Movie Database', 'Value'...         0        5.5  \\\n",
       "1  [{'Source': 'Internet Movie Database', 'Value'...         0        6.9   \n",
       "2  [{'Source': 'Internet Movie Database', 'Value'...         0        7.5   \n",
       "3  [{'Source': 'Internet Movie Database', 'Value'...         0        4.2   \n",
       "4  [{'Source': 'Internet Movie Database', 'Value'...         0        6.7   \n",
       "\n",
       "  imdbVotes   Type DVD BoxOffice  Production  Website Response  \n",
       "0    1980.0  movie   0         0           0        0     True  \n",
       "1    6633.0  movie   0         0           0        0     True  \n",
       "2   11407.0  movie   0         0           0        0     True  \n",
       "3      39.0  movie   0         0           0        0     True  \n",
       "4    3268.0  movie   0         0           0        0     True  \n",
       "\n",
       "[5 rows x 25 columns]"
      ]
     },
     "execution_count": 9,
     "metadata": {},
     "output_type": "execute_result"
    }
   ],
   "source": [
    "content.head()"
   ]
  },
  {
   "cell_type": "code",
   "execution_count": 10,
   "metadata": {},
   "outputs": [
    {
     "data": {
      "text/html": [
       "<div>\n",
       "<style scoped>\n",
       "    .dataframe tbody tr th:only-of-type {\n",
       "        vertical-align: middle;\n",
       "    }\n",
       "\n",
       "    .dataframe tbody tr th {\n",
       "        vertical-align: top;\n",
       "    }\n",
       "\n",
       "    .dataframe thead th {\n",
       "        text-align: right;\n",
       "    }\n",
       "</style>\n",
       "<table border=\"1\" class=\"dataframe\">\n",
       "  <thead>\n",
       "    <tr style=\"text-align: right;\">\n",
       "      <th></th>\n",
       "      <th>UserId</th>\n",
       "      <th>ItemId</th>\n",
       "      <th>Timestamp</th>\n",
       "      <th>Rating</th>\n",
       "    </tr>\n",
       "  </thead>\n",
       "  <tbody>\n",
       "    <tr>\n",
       "      <th>0</th>\n",
       "      <td>c4ca4238a0</td>\n",
       "      <td>91766eac45</td>\n",
       "      <td>2013-10-05 22:00:50</td>\n",
       "      <td>8</td>\n",
       "    </tr>\n",
       "    <tr>\n",
       "      <th>1</th>\n",
       "      <td>c81e728d9d</td>\n",
       "      <td>5c739554f7</td>\n",
       "      <td>2013-08-17 16:26:38</td>\n",
       "      <td>9</td>\n",
       "    </tr>\n",
       "    <tr>\n",
       "      <th>2</th>\n",
       "      <td>c81e728d9d</td>\n",
       "      <td>48f6d7ce7c</td>\n",
       "      <td>2013-08-17 13:28:27</td>\n",
       "      <td>8</td>\n",
       "    </tr>\n",
       "    <tr>\n",
       "      <th>3</th>\n",
       "      <td>c81e728d9d</td>\n",
       "      <td>e9318d627a</td>\n",
       "      <td>2013-06-15 15:38:09</td>\n",
       "      <td>1</td>\n",
       "    </tr>\n",
       "    <tr>\n",
       "      <th>4</th>\n",
       "      <td>a87ff679a2</td>\n",
       "      <td>17e6357973</td>\n",
       "      <td>2014-01-31 23:27:59</td>\n",
       "      <td>8</td>\n",
       "    </tr>\n",
       "  </tbody>\n",
       "</table>\n",
       "</div>"
      ],
      "text/plain": [
       "       UserId      ItemId           Timestamp  Rating\n",
       "0  c4ca4238a0  91766eac45 2013-10-05 22:00:50       8\n",
       "1  c81e728d9d  5c739554f7 2013-08-17 16:26:38       9\n",
       "2  c81e728d9d  48f6d7ce7c 2013-08-17 13:28:27       8\n",
       "3  c81e728d9d  e9318d627a 2013-06-15 15:38:09       1\n",
       "4  a87ff679a2  17e6357973 2014-01-31 23:27:59       8"
      ]
     },
     "execution_count": 10,
     "metadata": {},
     "output_type": "execute_result"
    }
   ],
   "source": [
    "ratings.head()"
   ]
  },
  {
   "cell_type": "code",
   "execution_count": 11,
   "metadata": {},
   "outputs": [
    {
     "name": "stdout",
     "output_type": "stream",
     "text": [
      "<class 'pandas.core.frame.DataFrame'>\n",
      "RangeIndex: 659720 entries, 0 to 659719\n",
      "Data columns (total 4 columns):\n",
      " #   Column     Non-Null Count   Dtype         \n",
      "---  ------     --------------   -----         \n",
      " 0   UserId     659720 non-null  object        \n",
      " 1   ItemId     659720 non-null  object        \n",
      " 2   Timestamp  659720 non-null  datetime64[ns]\n",
      " 3   Rating     659720 non-null  int64         \n",
      "dtypes: datetime64[ns](1), int64(1), object(2)\n",
      "memory usage: 20.1+ MB\n"
     ]
    }
   ],
   "source": [
    "ratings.info()"
   ]
  },
  {
   "cell_type": "code",
   "execution_count": 12,
   "metadata": {},
   "outputs": [
    {
     "data": {
      "text/plain": [
       "<Axes: ylabel='Frequency'>"
      ]
     },
     "execution_count": 12,
     "metadata": {},
     "output_type": "execute_result"
    },
    {
     "data": {
      "image/png": "[encoded data removed]",
      "text/plain": [
       "<Figure size 640x480 with 1 Axes>"
      ]
     },
     "metadata": {},
     "output_type": "display_data"
    }
   ],
   "source": [
    "ratings.Rating.plot.hist()"
   ]
  },
  {
   "cell_type": "code",
   "execution_count": 13,
   "metadata": {},
   "outputs": [
    {
     "name": "stdout",
     "output_type": "stream",
     "text": [
      "<class 'pandas.core.frame.DataFrame'>\n",
      "RangeIndex: 38012 entries, 0 to 38011\n",
      "Data columns (total 25 columns):\n",
      " #   Column      Non-Null Count  Dtype  \n",
      "---  ------      --------------  -----  \n",
      " 0   ItemId      38012 non-null  object \n",
      " 1   Title       38012 non-null  object \n",
      " 2   Year        38012 non-null  object \n",
      " 3   Rated       38012 non-null  object \n",
      " 4   Released    38012 non-null  object \n",
      " 5   Runtime     38012 non-null  object \n",
      " 6   Genre       38012 non-null  object \n",
      " 7   Director    38012 non-null  object \n",
      " 8   Writer      38012 non-null  object \n",
      " 9   Actors      38012 non-null  object \n",
      " 10  Plot        38012 non-null  object \n",
      " 11  Language    38012 non-null  object \n",
      " 12  Country     38012 non-null  object \n",
      " 13  Awards      38012 non-null  object \n",
      " 14  Poster      38012 non-null  object \n",
      " 15  Ratings     38012 non-null  object \n",
      " 16  Metascore   38012 non-null  object \n",
      " 17  imdbRating  38012 non-null  float64\n",
      " 18  imdbVotes   37734 non-null  float64\n",
      " 19  Type        38012 non-null  object \n",
      " 20  DVD         37988 non-null  object \n",
      " 21  BoxOffice   37988 non-null  object \n",
      " 22  Production  37988 non-null  object \n",
      " 23  Website     37988 non-null  object \n",
      " 24  Response    38012 non-null  object \n",
      "dtypes: float64(2), object(23)\n",
      "memory usage: 7.3+ MB\n"
     ]
    }
   ],
   "source": [
    "content.info()"
   ]
  },
  {
   "cell_type": "code",
   "execution_count": 133,
   "metadata": {},
   "outputs": [
    {
     "data": {
      "text/plain": [
       "((3401,), (3161,))"
      ]
     },
     "execution_count": 133,
     "metadata": {},
     "output_type": "execute_result"
    }
   ],
   "source": [
    "content.Country.unique().shape, content.Language.unique().shape"
   ]
  },
  {
   "cell_type": "code",
   "execution_count": 123,
   "metadata": {},
   "outputs": [],
   "source": [
    "# content.Genre = content.Genre.apply(lambda x: x.split(\", \") if type(x) == str else [x])\n",
    "# pd.DataFrame(content.Genre.to_list())"
   ]
  },
  {
   "cell_type": "code",
   "execution_count": 122,
   "metadata": {},
   "outputs": [],
   "source": [
    "# content.Actors = content.Actors.apply(lambda x: x.split(\", \") if type(x) == str else [x])\n",
    "# pd.DataFrame(content.Actors.to_list())"
   ]
  },
  {
   "cell_type": "code",
   "execution_count": 14,
   "metadata": {},
   "outputs": [],
   "source": [
    "users = targets.UserId.unique()"
   ]
  },
  {
   "cell_type": "code",
   "execution_count": 15,
   "metadata": {},
   "outputs": [],
   "source": [
    "# rank movies by imdbVotes\n",
    "\n",
    "# with open(\"output.csv\", \"w\", newline='') as f:\n",
    "#     writer = csv.writer(f)\n",
    "#     writer.writerows([[\"UserId\", \"ItemId\"]])\n",
    "\n",
    "#     result = []\n",
    "#     print(len(users))\n",
    "#     # for user in users[:5]:\n",
    "#     for user in users:\n",
    "#         items = targets.loc[targets.UserId == user].ItemId.to_numpy()\n",
    "#         movies = content.loc[content.ItemId.isin(items)]\n",
    "#         rank = movies.sort_values(by=\"imdbVotes\", ascending=False).ItemId.to_numpy()\n",
    "        \n",
    "#         writer.writerows(list(zip([user] * 100, rank)))"
   ]
  },
  {
   "cell_type": "code",
   "execution_count": 71,
   "metadata": {},
   "outputs": [
    {
     "data": {
      "text/plain": [
       "ItemId                                               c9f0f895fb\n",
       "Title                    Edison Kinetoscopic Record of a Sneeze\n",
       "Year                                                       1894\n",
       "Rated                                                         0\n",
       "Released                                            09 Jan 1894\n",
       "Runtime                                                   1 min\n",
       "Genre                                        Documentary, Short\n",
       "Director                                   William K.L. Dickson\n",
       "Writer                                                        0\n",
       "Actors                                                 Fred Ott\n",
       "Plot          A man (Edison's assistant) takes a pinch of sn...\n",
       "Language                                                   None\n",
       "Country                                           United States\n",
       "Awards                                                    1 win\n",
       "Poster        https://m.media-amazon.com/images/M/MV5BNGQ5Mj...\n",
       "Ratings                                                     5.5\n",
       "Metascore                                                     0\n",
       "imdbRating                                                  5.5\n",
       "imdbVotes                                                1980.0\n",
       "Type                                                      movie\n",
       "DVD                                                           0\n",
       "BoxOffice                                                     0\n",
       "Production                                                    0\n",
       "Website                                                       0\n",
       "Response                                                   True\n",
       "Name: 0, dtype: object"
      ]
     },
     "execution_count": 71,
     "metadata": {},
     "output_type": "execute_result"
    }
   ],
   "source": [
    "content.iloc[0]"
   ]
  },
  {
   "cell_type": "code",
   "execution_count": 53,
   "metadata": {},
   "outputs": [],
   "source": [
    "content[\"Ratings\"] = content[\"Ratings\"].map(lambda x: (x[0][\"Value\"].split(\"/\")[0]) if len(x) > 0 else 0)"
   ]
  },
  {
   "cell_type": "code",
   "execution_count": 69,
   "metadata": {},
   "outputs": [
    {
     "data": {
      "text/plain": [
       "<Axes: ylabel='Frequency'>"
      ]
     },
     "execution_count": 69,
     "metadata": {},
     "output_type": "execute_result"
    },
    {
     "data": {
      "image/png": "[encoded data removed]",
      "text/plain": [
       "<Figure size 640x480 with 1 Axes>"
      ]
     },
     "metadata": {},
     "output_type": "display_data"
    }
   ],
   "source": [
    "content.Ratings.map(lambda x: str(x).split(\"0%\")[0]).astype(float).plot.hist()"
   ]
  },
  {
   "cell_type": "code",
   "execution_count": 70,
   "metadata": {},
   "outputs": [
    {
     "data": {
      "text/plain": [
       "<Axes: ylabel='Frequency'>"
      ]
     },
     "execution_count": 70,
     "metadata": {},
     "output_type": "execute_result"
    },
    {
     "data": {
      "image/png": "[encoded data removed]",
      "text/plain": [
       "<Figure size 640x480 with 1 Axes>"
      ]
     },
     "metadata": {},
     "output_type": "display_data"
    }
   ],
   "source": [
    "content.imdbRating.plot.hist()"
   ]
  },
  {
   "cell_type": "code",
   "execution_count": null,
   "metadata": {},
   "outputs": [],
   "source": []
  },
  {
   "cell_type": "code",
   "execution_count": 2,
   "metadata": {},
   "outputs": [],
   "source": [
    "from transformers import BertTokenizer, BertModel\n",
    "import torch\n",
    "\n",
    "# Load pre-trained BERT model and tokenizer\n",
    "tokenizer = BertTokenizer.from_pretrained(\"bert-base-uncased\")\n",
    "model = BertModel.from_pretrained(\"bert-base-uncased\")\n",
    "\n",
    "# Input text\n",
    "text = \"This is an example sentence.\"\n",
    "\n",
    "# Tokenize the text\n",
    "tokens = tokenizer.convert_tokens_to_ids(tokenizer.tokenize(text))\n",
    "\n",
    "# Convert tokens to tensor\n",
    "input_ids = torch.tensor(tokenizer.encode(tokens)).unsqueeze(0)\n",
    "\n",
    "# Forward pass through BERT\n",
    "outputs = model(input_ids)\n",
    "\n",
    "# Extract features from BERT\n",
    "features = outputs.last_hidden_state"
   ]
  },
  {
   "cell_type": "code",
   "execution_count": 4,
   "metadata": {},
   "outputs": [
    {
     "data": {
      "text/plain": [
       "torch.Size([1, 8, 768])"
      ]
     },
     "execution_count": 4,
     "metadata": {},
     "output_type": "execute_result"
    }
   ],
   "source": [
    "features.shape\n"
   ]
  },
  {
   "cell_type": "code",
   "execution_count": 5,
   "metadata": {},
   "outputs": [
    {
     "data": {
      "text/plain": [
       "tensor([[[-0.3774, -0.3350, -0.3206,  ..., -0.5255,  0.2590,  0.6877],\n",
       "         [-0.8629, -0.6322, -0.4241,  ..., -0.5824,  0.7432,  0.1259],\n",
       "         [-0.2213, -0.9393,  0.3523,  ..., -0.3219,  0.4667,  0.5915],\n",
       "         ...,\n",
       "         [-0.0471, -0.1261,  0.0237,  ..., -0.2642,  0.1113, -0.0666],\n",
       "         [ 0.7917,  0.0632, -0.6609,  ...,  0.3360, -0.7243, -0.2557],\n",
       "         [-0.1416, -0.3367, -0.3314,  ..., -0.2132, -0.4376,  0.4454]]],\n",
       "       grad_fn=<NativeLayerNormBackward0>)"
      ]
     },
     "execution_count": 5,
     "metadata": {},
     "output_type": "execute_result"
    }
   ],
   "source": [
    "features"
   ]
  }
 ],
 "metadata": {
  "kernelspec": {
   "display_name": "Python 3 (ipykernel)",
   "language": "python",
   "name": "python3"
  },
  "language_info": {
   "codemirror_mode": {
    "name": "ipython",
    "version": 3
   },
   "file_extension": ".py",
   "mimetype": "text/x-python",
   "name": "python",
   "nbconvert_exporter": "python",
   "pygments_lexer": "ipython3",
   "version": "3.10.10"
  }
 },
 "nbformat": 4,
 "nbformat_minor": 4
}
