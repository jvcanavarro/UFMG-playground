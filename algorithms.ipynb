{
  "nbformat": 4,
  "nbformat_minor": 0,
  "metadata": {
    "colab": {
      "provenance": [],
      "authorship_tag": "ABX9TyO1wdZGQj2ldGDJBilf/Cxg",
      "include_colab_link": true
    },
    "kernelspec": {
      "name": "python3",
      "display_name": "Python 3"
    },
    "language_info": {
      "name": "python"
    }
  },
  "cells": [
    {
      "cell_type": "markdown",
      "metadata": {
        "id": "view-in-github",
        "colab_type": "text"
      },
      "source": [
        "<a href=\"https://colab.research.google.com/github/jvcanavarro/UFMG-playground/blob/main/algorithms.ipynb\" target=\"_parent\"><img src=\"https://colab.research.google.com/assets/colab-badge.svg\" alt=\"Open In Colab\"/></a>"
      ]
    },
    {
      "cell_type": "code",
      "source": [
        "import random"
      ],
      "metadata": {
        "id": "OLl5tPrLzs23"
      },
      "execution_count": 31,
      "outputs": []
    },
    {
      "cell_type": "markdown",
      "source": [
        "# Aula 1 - 15/03/2023\n",
        "\n"
      ],
      "metadata": {
        "id": "zmjWzN-rN-KY"
      }
    },
    {
      "cell_type": "code",
      "source": [
        "# Insertion Sort\n",
        "\n",
        "def insertion_sort(a):\n",
        "    for j in range(1, len(a)):\n",
        "        key = a[j]\n",
        "        i = j - 1\n",
        "        while i >= 0 and a[i] > key:\n",
        "            a[i + 1] = a[i]\n",
        "            i -= 1\n",
        "        a[i + 1] = key\n",
        "    return a\n",
        "\n",
        "a = random.sample(range(10), 10)\n",
        "print(\"Unsorted Array A:\", a)\n",
        "print(\"Sorted Array A:\", insertion_sort(a))"
      ],
      "metadata": {
        "colab": {
          "base_uri": "https://localhost:8080/"
        },
        "id": "Ox0HWU6DNPn7",
        "outputId": "246d6309-4f88-4da6-9b01-33e2a30855cf"
      },
      "execution_count": 30,
      "outputs": [
        {
          "output_type": "stream",
          "name": "stdout",
          "text": [
            "Unsorted Array A: [9, 1, 0, 4, 2, 7, 5, 8, 3, 6]\n",
            "Sorted Array A: [0, 1, 2, 3, 4, 5, 6, 7, 8, 9]\n"
          ]
        }
      ]
    },
    {
      "cell_type": "code",
      "execution_count": 29,
      "metadata": {
        "colab": {
          "base_uri": "https://localhost:8080/"
        },
        "id": "uwv6bujbNJno",
        "outputId": "c0e04bde-1b94-4289-831a-163ffbcb6ac8"
      },
      "outputs": [
        {
          "output_type": "stream",
          "name": "stdout",
          "text": [
            "Unsorted Array A: [2, 6, 5, 0, 9, 8, 1, 3, 4, 7]\n",
            "Sorted Array A: [9, 8, 7, 6, 5, 4, 3, 2, 1, 0]\n"
          ]
        }
      ],
      "source": [
        "# 2.1-2: Reescreva o procedimento Insertion Sort para ordenar em ordem decrescente.\n",
        "\n",
        "def inv_insertion_sort(a):\n",
        "    for j in range(1, len(a)):\n",
        "        key = a[j]\n",
        "        i = j - 1\n",
        "        while i >= 0 and a[i] < key: # <--- change condition\n",
        "            a[i + 1] = a[i]\n",
        "            i -= 1\n",
        "        a[i + 1] = key\n",
        "    return a\n",
        "\n",
        "a = random.sample(range(10), 10)\n",
        "print(\"Unsorted Array A:\", a)\n",
        "print(\"Sorted Array A:\", inv_insertion_sort(a))"
      ]
    },
    {
      "cell_type": "code",
      "source": [
        "# 2.1-3: Escreva o pseudocódigo para busca linear, que faça a varredura da sequência, procurando por v.\n",
        "\n",
        "def search(a, v):\n",
        "    for j in range(len(a)):\n",
        "        if a[j] == v:\n",
        "            return j\n",
        "    return\n",
        "\n",
        "a = random.sample(range(10), 10)    \n",
        "v = random.randint(0, 10)\n",
        "\n",
        "print(\"Input array:\", a)\n",
        "print(\"Target value:\", v)\n",
        "\n",
        "i = search(a, v)\n",
        "\n",
        "print(i)\n"
      ],
      "metadata": {
        "colab": {
          "base_uri": "https://localhost:8080/"
        },
        "id": "RpzWCiAmN68x",
        "outputId": "72df957a-cb46-4fc1-a825-208bf55e663a"
      },
      "execution_count": null,
      "outputs": [
        {
          "output_type": "stream",
          "name": "stdout",
          "text": [
            "Input array: [1, 2, 8, 5, 9, 4, 3, 7, 6, 0]\n",
            "Target value: 4\n",
            "5\n"
          ]
        }
      ]
    },
    {
      "cell_type": "code",
      "source": [
        "# 2.2-2: Escreva o pseudocódigo para o algoritmo de Selection Sort\n",
        "\n",
        "def selection_sort(a):\n",
        "    for j in range(len(a) - 1):\n",
        "        min_index = j\n",
        "        for i in range(j + 1, len(a)):\n",
        "            if a[i] < a[min_index]:\n",
        "                min_index = i\n",
        "\n",
        "        a[min_index], a[j] = a[j], a[min_index]\n",
        "\n",
        "    return a\n",
        "\n",
        "\n",
        "a = random.sample(range(1, 11), 10)\n",
        "b = [i for i in range(1, 11)]\n",
        "c = b[::-1]\n",
        "\n",
        "tests = [a, b, c]\n",
        "\n",
        "for i, t in enumerate(tests):\n",
        "    print(\"\\nList\", i + 1)\n",
        "    print(\"Unsorted Array:\", t)\n",
        "    t = selection_sort(t)\n",
        "    print(\"Sorted Array:\", t)"
      ],
      "metadata": {
        "id": "yNBMRutdRnlG",
        "colab": {
          "base_uri": "https://localhost:8080/"
        },
        "outputId": "e6fb57b2-7865-441c-a510-ab9722e320cd"
      },
      "execution_count": 28,
      "outputs": [
        {
          "output_type": "stream",
          "name": "stdout",
          "text": [
            "\n",
            "List 1\n",
            "Unsorted Array: [2, 9, 4, 5, 8, 6, 7, 3, 1, 10]\n",
            "Sorted Array: [1, 2, 3, 4, 5, 6, 7, 8, 9, 10]\n",
            "\n",
            "List 2\n",
            "Unsorted Array: [1, 2, 3, 4, 5, 6, 7, 8, 9, 10]\n",
            "Sorted Array: [1, 2, 3, 4, 5, 6, 7, 8, 9, 10]\n",
            "\n",
            "List 3\n",
            "Unsorted Array: [10, 9, 8, 7, 6, 5, 4, 3, 2, 1]\n",
            "Sorted Array: [1, 2, 3, 4, 5, 6, 7, 8, 9, 10]\n"
          ]
        }
      ]
    },
    {
      "cell_type": "code",
      "source": [
        "# 2.3 -> Implementar o Quick Sort"
      ],
      "metadata": {
        "colab": {
          "base_uri": "https://localhost:8080/"
        },
        "id": "SmrIR9LZW0Po",
        "outputId": "f07dc891-44f3-42c0-8ffe-3b21a3e2862b"
      },
      "execution_count": 17,
      "outputs": [
        {
          "output_type": "execute_result",
          "data": {
            "text/plain": [
              "[10, 9, 8, 7, 6, 5, 4, 3, 2, 1]"
            ]
          },
          "metadata": {},
          "execution_count": 17
        }
      ]
    }
  ]
}